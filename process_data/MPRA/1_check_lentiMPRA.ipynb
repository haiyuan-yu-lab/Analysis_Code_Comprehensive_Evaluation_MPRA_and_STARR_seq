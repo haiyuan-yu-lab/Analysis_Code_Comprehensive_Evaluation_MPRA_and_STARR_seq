{
 "cells": [
  {
   "cell_type": "code",
   "execution_count": 1,
   "id": "b28fb6c2",
   "metadata": {},
   "outputs": [],
   "source": [
    "# -------------------- Standard Library Imports --------------------\n",
    "import argparse\n",
    "import glob\n",
    "import os\n",
    "import sys\n",
    "from multiprocessing import Pool, cpu_count\n",
    "from random import sample\n",
    "from subprocess import PIPE, Popen, STDOUT, call, run\n",
    "\n",
    "# -------------------- Scientific Libraries ------------------------\n",
    "import numpy as np\n",
    "import pandas as pd\n",
    "pd.set_option('display.max_columns', None)\n",
    "import pybedtools\n",
    "import pysam\n",
    "import scipy\n",
    "import statsmodels.stats.multitest as smm\n",
    "from Bio import SeqIO\n",
    "\n",
    "# -------------------- Visualization Libraries ---------------------\n",
    "import seaborn as sns\n",
    "from matplotlib import pyplot as plt\n",
    "from matplotlib.backends.backend_pdf import PdfPages\n",
    "from mpl_toolkits.axes_grid1 import make_axes_locatable\n",
    "import matplotlib.patches as mpatches\n",
    "import matplotlib.ticker as mtick\n",
    "from matplotlib.offsetbox import AnchoredText\n",
    "import matplotlib.colors as clr\n",
    "from matplotlib import cm\n",
    "from matplotlib.colors import Normalize \n",
    "from scipy.interpolate import interpn\n",
    "from matplotlib_venn import venn2, venn2_circles\n",
    "\n",
    "# -------------------- Matplotlib Configuration --------------------\n",
    "plt.rcParams['pdf.fonttype'] = 42\n",
    "plt.rcParams['ps.fonttype'] = 42\n",
    "plt.rcParams['font.family'] = 'sans-serif'\n",
    "plt.rcParams['font.sans-serif'] = 'Helvetica Neue'\n",
    "\n",
    "# -------------------- PyBedTools Temp Directory -------------------\n",
    "pybedtools.helpers.set_tempdir('/fs/cbsuhy02/storage/jz855/tmp/') \n"
   ]
  },
  {
   "cell_type": "code",
   "execution_count": 2,
   "id": "9599780c",
   "metadata": {},
   "outputs": [],
   "source": [
    "# Set the project root directory (assuming current working directory is within a subdirectory)\n",
    "project_root = os.path.abspath(os.path.join(os.getcwd(), '..', '..'))\n"
   ]
  },
  {
   "cell_type": "markdown",
   "id": "bae3f7f5",
   "metadata": {},
   "source": [
    "# LentiMPRA"
   ]
  },
  {
   "cell_type": "code",
   "execution_count": 3,
   "id": "58f37db0",
   "metadata": {},
   "outputs": [
    {
     "name": "stdout",
     "output_type": "stream",
     "text": [
      "5\n",
      "potential enhancer                     172619\n",
      "promoter                                31048\n",
      "intergenic (7 loci)                     28943\n",
      "negative control, shuffled                249\n",
      "negative control (Ernst et al 2016)       195\n",
      "positive control (Ernst et al 2016)        50\n",
      "Name: count, dtype: int64\n"
     ]
    }
   ],
   "source": [
    "data_path = os.path.join(project_root, 'data', 'raw_data', 'LentiMPRA', 'UMI_count_with_all_annotation.txt')\n",
    "count = pd.read_csv(data_path, sep='\\t', header=None)\n",
    "\n",
    "print(count[5].value_counts())"
   ]
  },
  {
   "cell_type": "code",
   "execution_count": null,
   "id": "56f4a809",
   "metadata": {},
   "outputs": [],
   "source": []
  }
 ],
 "metadata": {
  "kernelspec": {
   "display_name": "py39",
   "language": "python",
   "name": "python3"
  },
  "language_info": {
   "codemirror_mode": {
    "name": "ipython",
    "version": 3
   },
   "file_extension": ".py",
   "mimetype": "text/x-python",
   "name": "python",
   "nbconvert_exporter": "python",
   "pygments_lexer": "ipython3",
   "version": "3.9.16"
  }
 },
 "nbformat": 4,
 "nbformat_minor": 5
}
