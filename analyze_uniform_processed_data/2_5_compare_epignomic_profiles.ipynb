{
 "cells": [
  {
   "cell_type": "markdown",
   "id": "1a1e6a2c",
   "metadata": {},
   "source": [
    "This notebook checks statistics of epigenomics profiles output from deepTools, the results are not used in any figures in the paper. "
   ]
  },
  {
   "cell_type": "code",
   "execution_count": 25,
   "id": "9d115873-b0c8-4892-8754-8a3d1d603c86",
   "metadata": {
    "execution": {
     "iopub.execute_input": "2025-04-12T06:56:49.990203Z",
     "iopub.status.busy": "2025-04-12T06:56:49.989963Z",
     "iopub.status.idle": "2025-04-12T06:56:49.995676Z",
     "shell.execute_reply": "2025-04-12T06:56:49.995132Z",
     "shell.execute_reply.started": "2025-04-12T06:56:49.990178Z"
    },
    "tags": []
   },
   "outputs": [],
   "source": [
    "# -------------------- Standard Library Imports --------------------\n",
    "import argparse\n",
    "import glob\n",
    "import os\n",
    "import sys\n",
    "from multiprocessing import Pool, cpu_count\n",
    "from random import sample\n",
    "from subprocess import PIPE, Popen, STDOUT, call, run\n",
    "import gzip\n",
    "\n",
    "# -------------------- Scientific Libraries ------------------------\n",
    "import numpy as np\n",
    "import pandas as pd\n",
    "import pybedtools\n",
    "import pysam\n",
    "import scipy\n",
    "import statsmodels.stats.multitest as smm\n",
    "from Bio import SeqIO\n",
    "\n",
    "# -------------------- Visualization Libraries ---------------------\n",
    "import seaborn as sns\n",
    "from matplotlib import pyplot as plt\n",
    "from matplotlib.backends.backend_pdf import PdfPages\n",
    "from mpl_toolkits.axes_grid1 import make_axes_locatable\n",
    "import matplotlib.patches as mpatches\n",
    "import matplotlib.ticker as mtick\n",
    "from matplotlib.offsetbox import AnchoredText\n",
    "import matplotlib.colors as clr\n",
    "from matplotlib import cm\n",
    "from matplotlib.colors import Normalize \n",
    "from scipy.interpolate import interpn\n",
    "from matplotlib_venn import venn2, venn2_circles\n",
    "\n",
    "# -------------------- Matplotlib Configuration --------------------\n",
    "plt.rcParams['pdf.fonttype'] = 42\n",
    "plt.rcParams['ps.fonttype'] = 42\n",
    "plt.rcParams['font.family'] = 'sans-serif'\n",
    "plt.rcParams['font.sans-serif'] = 'Helvetica Neue'\n",
    "\n",
    "# -------------------- PyBedTools Temp Directory -------------------\n",
    "pybedtools.helpers.set_tempdir('/fs/cbsuhy02/storage/jz855/tmp/') \n"
   ]
  },
  {
   "cell_type": "code",
   "execution_count": 9,
   "id": "f2e7c873-f675-4696-a8ac-ef01fefc2ed4",
   "metadata": {
    "execution": {
     "iopub.execute_input": "2025-04-12T06:08:43.291322Z",
     "iopub.status.busy": "2025-04-12T06:08:43.291033Z",
     "iopub.status.idle": "2025-04-12T06:08:43.293705Z",
     "shell.execute_reply": "2025-04-12T06:08:43.293304Z",
     "shell.execute_reply.started": "2025-04-12T06:08:43.291300Z"
    },
    "tags": []
   },
   "outputs": [],
   "source": [
    "# Specify root directory\n",
    "project_root = os.path.abspath(os.path.join(os.getcwd(), '..'))\n"
   ]
  },
  {
   "cell_type": "code",
   "execution_count": 167,
   "id": "ce2a6044-d394-4144-86e8-b005060f688a",
   "metadata": {
    "execution": {
     "iopub.execute_input": "2025-04-13T05:00:03.893592Z",
     "iopub.status.busy": "2025-04-13T05:00:03.893311Z",
     "iopub.status.idle": "2025-04-13T05:00:03.900420Z",
     "shell.execute_reply": "2025-04-13T05:00:03.899998Z",
     "shell.execute_reply.started": "2025-04-13T05:00:03.893571Z"
    },
    "tags": []
   },
   "outputs": [],
   "source": [
    "import gzip\n",
    "import json\n",
    "import pandas as pd\n",
    "\n",
    "# Mapping from sample label (as provided in the metadata) to profile type.\n",
    "profile_dict = {\n",
    "    'ENCFF972GVB': 'DNase-seq', \n",
    "    'ENCFF102ARJ': 'ATAC-seq', \n",
    "    'fc_over_ctrl_ENCFF911JVK': 'H3K4me3', \n",
    "    'fc_over_ctrl_ENCFF381NDD': 'H3K27ac'\n",
    "}\n",
    "\n",
    "def process_matrix_file(data_path, call_types, dataset, offset=6):\n",
    "    \"\"\"\n",
    "    Process a computeMatrix .gz file and return a list of DataFrames of mean signal profiles.\n",
    "    \n",
    "    This function does the following:\n",
    "      1. Opens the .gz file in text mode and reads the first line containing metadata.\n",
    "         The metadata is expected to be a JSON string prefixed by \"@\" and must contain:\n",
    "           - \"sample_boundaries\": a list of bin boundaries (e.g., [0, 200, 400])\n",
    "           - \"group_boundaries\": a list of row indices separating the groups (e.g., [0, 46906, 58585])\n",
    "           - \"sample_labels\": (optional) a list of labels for each sample\n",
    "      2. Reads the remainder of the file (the signal data) into a DataFrame.\n",
    "      3. For each sample, it uses the sample boundaries (adjusted by the provided offset) to subset \n",
    "         the appropriate columns. It then splits the rows into two groups as defined by group_boundaries,\n",
    "         computes the mean across rows for each group, and annotates the resulting DataFrame.\n",
    "      4. The function returns a list of DataFrames (one for each sample) containing the mean profile\n",
    "         for that sample with annotation columns:\n",
    "            - 'profile_type': the type of signal (using profile_dict)\n",
    "            - 'call_type': \"Lab-reported\" for group 1 and \"Uniform Processed\" for group 2, or \"Both\" for group1 and \"Either\" for group2\n",
    "            - 'dataset': provided dataset name.\n",
    "    \n",
    "    Parameters:\n",
    "      data_path (str): Path to the computeMatrix .gz file.\n",
    "      call_types (list of str): A list specifying the call type labels for the two groups \n",
    "                                (e.g., [\"Lab-reported\", \"Uniform Processed\"]).dataset (str): Name of the dataset (used for annotation).\n",
    "      offset (int): Number of non-signal columns at the beginning of each row (default is 6).\n",
    "      \n",
    "    Returns:\n",
    "      df_list (list of pd.DataFrame): A list of DataFrames, one per sample, each containing the mean signal profile\n",
    "                                      for both groups along with annotation columns.\n",
    "    \"\"\"\n",
    "    # Open the gz file in text mode and read the first line (metadata)\n",
    "    with gzip.open(data_path, 'rt') as f:\n",
    "        meta_line = f.readline().strip()\n",
    "        \n",
    "    # Remove any leading \"@\" and parse the JSON metadata.\n",
    "    if meta_line.startswith(\"@\"):\n",
    "        meta_line = meta_line[1:]\n",
    "    meta = json.loads(meta_line)\n",
    "    \n",
    "    # Extract boundaries dynamically from the metadata\n",
    "    sample_boundaries = meta.get(\"sample_boundaries\")  # e.g., [0, 200, 400]\n",
    "    group_boundaries = meta.get(\"group_boundaries\")      # e.g., [0, 46906, 58585]\n",
    "    \n",
    "    # Retrieve sample labels, defaulting to \"sample_1\", \"sample_2\", etc. if not provided.\n",
    "    sample_labels = meta.get(\"sample_labels\", [f\"sample_{i+1}\" for i in range(len(sample_boundaries)-1)])\n",
    "    \n",
    "    # Read the remainder of the file into a DataFrame. We skip the metadata line.\n",
    "    df = pd.read_csv(data_path, sep='\\t', skiprows=1, header=None)\n",
    "    \n",
    "    # List to store mean profile DataFrames for each sample.\n",
    "    df_list = []\n",
    "    \n",
    "    # For each sample, determine the columns corresponding to that sample based on sample_boundaries.\n",
    "    for idx in range(len(sample_labels)):\n",
    "        # Compute starting and ending column indices for the sample.\n",
    "        col_start = offset + sample_boundaries[idx]\n",
    "        col_end = offset + sample_boundaries[idx+1]\n",
    "        \n",
    "        # Subset rows for group 1 (Lab-reported). Rows range from group_boundaries[0] to group_boundaries[1]-1.\n",
    "        group_1 = df.loc[group_boundaries[0]:group_boundaries[1]-1, col_start:col_end-1]\n",
    "        # Subset rows for group 2 (Uniform Processed). Rows range from group_boundaries[1] to group_boundaries[2]-1.\n",
    "        group_2 = df.loc[group_boundaries[1]:group_boundaries[2]-1, col_start:col_end-1]\n",
    "        \n",
    "        # Compute the mean signal profile for group 1 across rows.\n",
    "        group_1_mean = group_1.mean(axis=0).to_frame()\n",
    "        # Annotate with the profile type using the sample label and the profile_dict mapping.\n",
    "        group_1_mean['profile_type'] = profile_dict[sample_labels[idx]]\n",
    "        group_1_mean['call_type'] = call_types[0]\n",
    "        \n",
    "        # Compute the mean signal profile for group 2.\n",
    "        group_2_mean = group_2.mean(axis=0).to_frame()\n",
    "        group_2_mean['profile_type'] = profile_dict[sample_labels[idx]]\n",
    "        group_2_mean['call_type'] = call_types[1]\n",
    "        \n",
    "        # Concatenate the two groups vertically.\n",
    "        sample_mean_df = pd.concat([group_1_mean, group_2_mean], axis=0, ignore_index=True)\n",
    "        sample_mean_df['dataset'] = dataset\n",
    "        \n",
    "        # Append this DataFrame to the list.\n",
    "        df_list.append(sample_mean_df)\n",
    "        \n",
    "    return df_list\n"
   ]
  },
  {
   "cell_type": "code",
   "execution_count": 133,
   "id": "50d9bcf1-f7ed-4101-8ffa-0c7a183e0375",
   "metadata": {
    "execution": {
     "iopub.execute_input": "2025-04-13T04:45:49.183984Z",
     "iopub.status.busy": "2025-04-13T04:45:49.183699Z",
     "iopub.status.idle": "2025-04-13T04:45:49.189130Z",
     "shell.execute_reply": "2025-04-13T04:45:49.188709Z",
     "shell.execute_reply.started": "2025-04-13T04:45:49.183962Z"
    },
    "tags": []
   },
   "outputs": [],
   "source": [
    "def boxplot(data,\n",
    "            x_col,\n",
    "            y_col,\n",
    "            hue_col,\n",
    "            hue_order,\n",
    "            x_order,\n",
    "            xlabel,\n",
    "            ylabel,\n",
    "            x_tick_labels,\n",
    "            out_path='',\n",
    "            rotation=30):\n",
    "    \"\"\"\n",
    "    Create and optionally save a boxplot using Seaborn.\n",
    "\n",
    "    Parameters:\n",
    "      data (pd.DataFrame): The input DataFrame containing the data to plot.\n",
    "      x_col (str): The name of the column to use on the x-axis.\n",
    "      y_col (str): The name of the column to use on the y-axis.\n",
    "      hue_col (str): The name of the column to use for color encoding (hue).\n",
    "      hue_order (list): The order of categories for the hue.\n",
    "      x_order (list): The order of categories for the x-axis.\n",
    "      xlabel (str): Label for the x-axis.\n",
    "      ylabel (str): Label for the y-axis.\n",
    "      x_tick_labels (list): List of labels to display on the x-axis ticks.\n",
    "      out_path (str): Optional output file path to save the figure.\n",
    "      rotation (int): Rotation angle for the x-tick labels.\n",
    "\n",
    "    Returns:\n",
    "      None. The function creates a boxplot and saves the figure if an output path is provided.\n",
    "    \"\"\"\n",
    "    \n",
    "    # Create a new figure with a specified size.\n",
    "    fig = plt.figure(figsize=(5, 4))\n",
    "    \n",
    "    # Create the boxplot using Seaborn.\n",
    "    # - 'data' is the input DataFrame.\n",
    "    # - 'x_col' and 'y_col' specify which columns to use for the x and y axes.\n",
    "    # - 'hue_col' is used to further divide the data into categories with specified colors.\n",
    "    # - 'order' and 'hue_order' control the order of the x-axis and hue categories, respectively.\n",
    "    # - 'palette' is assumed to be defined externally; it specifies colors for the categories.\n",
    "    # - 'fill=False' creates unfilled (outlined) boxes.\n",
    "    # - 'width' sets the width of each box, and 'gap' controls spacing.\n",
    "    ax = sns.boxplot(data=data, \n",
    "                     x=x_col, \n",
    "                     y=y_col, \n",
    "                     hue=hue_col,\n",
    "                     hue_order=hue_order, \n",
    "                     order=x_order, \n",
    "                     palette=palette, \n",
    "                     fill=False, \n",
    "                     width=0.5, \n",
    "                     gap=0.2)\n",
    "    \n",
    "    # Set the x-axis and y-axis labels with a larger font size.\n",
    "    ax.set_xlabel(xlabel, fontsize=20)\n",
    "    ax.set_ylabel(ylabel, fontsize=20)\n",
    "\n",
    "    # Set custom x-tick labels, applying the given rotation and font size.\n",
    "    ax.set_xticklabels(x_tick_labels, rotation=rotation, fontsize=17)\n",
    "\n",
    "    # Retrieve current y-tick values and format them as rounded strings.\n",
    "    y_ticks = ax.get_yticks().tolist()\n",
    "    # y_tick_labels = [f\"{round(tick)}\" for tick in y_ticks]\n",
    "    ax.set_yticklabels(y_ticks, fontsize=17)\n",
    "\n",
    "    # Remove the top and right spines (borders) for a cleaner look.\n",
    "    sns.despine()\n",
    "    \n",
    "    # Configure the legend with custom settings and position it outside the plot.\n",
    "    plt.legend(\n",
    "        bbox_to_anchor=(1.05, 1),\n",
    "        loc='upper left',\n",
    "        fancybox=True,\n",
    "        ncol=1,\n",
    "        borderaxespad=0.,\n",
    "        fontsize=15\n",
    "    )\n",
    "\n",
    "    # If an output path is specified, save the figure as a file.\n",
    "    if out_path != '':\n",
    "        plt.savefig(out_path, bbox_inches='tight', transparent=True, dpi=300)\n",
    "        "
   ]
  },
  {
   "cell_type": "markdown",
   "id": "3a3bf534-6d30-4cbe-a0b5-55eb6b2081b8",
   "metadata": {},
   "source": [
    "# lab-reported call (original) vs. uniform processed"
   ]
  },
  {
   "cell_type": "markdown",
   "id": "c2d0823b-ec16-45ba-a117-9c04e202c672",
   "metadata": {},
   "source": [
    "## DNase-seq & ATAC-seq"
   ]
  },
  {
   "cell_type": "code",
   "execution_count": 134,
   "id": "cc2da8e4-aadb-46fc-9d7f-23742b832589",
   "metadata": {
    "execution": {
     "iopub.execute_input": "2025-04-13T04:45:49.928104Z",
     "iopub.status.busy": "2025-04-13T04:45:49.927911Z",
     "iopub.status.idle": "2025-04-13T04:45:50.382320Z",
     "shell.execute_reply": "2025-04-13T04:45:50.381925Z",
     "shell.execute_reply.started": "2025-04-13T04:45:49.928086Z"
    },
    "tags": []
   },
   "outputs": [],
   "source": [
    "# DNase-seq & ATAC-seq\n",
    "open_region_root = os.path.join(project_root, 'data', 'output', 'computeMatrix', \n",
    "                                'original_vs_processed', 'matrix_DNase_ATAC')\n"
   ]
  },
  {
   "cell_type": "code",
   "execution_count": 135,
   "id": "6e54aafa-83f2-4993-a6e2-50f19152406a",
   "metadata": {
    "execution": {
     "iopub.execute_input": "2025-04-13T04:45:50.607532Z",
     "iopub.status.busy": "2025-04-13T04:45:50.607333Z",
     "iopub.status.idle": "2025-04-13T04:46:04.297636Z",
     "shell.execute_reply": "2025-04-13T04:46:04.296781Z",
     "shell.execute_reply.started": "2025-04-13T04:45:50.607514Z"
    },
    "tags": []
   },
   "outputs": [
    {
     "name": "stderr",
     "output_type": "stream",
     "text": [
      "<ipython-input-84-e64b57c15db3>:63: DtypeWarning: Columns (4) have mixed types. Specify dtype option on import or set low_memory=False.\n",
      "  df = pd.read_csv(data_path, sep='\\t', skiprows=1, header=None)\n",
      "<ipython-input-84-e64b57c15db3>:63: DtypeWarning: Columns (4) have mixed types. Specify dtype option on import or set low_memory=False.\n",
      "  df = pd.read_csv(data_path, sep='\\t', skiprows=1, header=None)\n"
     ]
    }
   ],
   "source": [
    "# DNase-seq and ATAC-seq mean profile computation for multiple datasets.\n",
    "# The function `process_matrix_file` reads a computeMatrix .gz file, parses its metadata to obtain\n",
    "# sample boundaries (e.g., [0, 200, 400]) and group boundaries, and then computes the mean signal profiles\n",
    "# for two groups (e.g., Lab-reported and Uniform Processed). It returns two DataFrames:\n",
    "#   - One for DNase-seq (sample 1)\n",
    "#   - One for ATAC-seq (sample 2)\n",
    "# The 'offset' parameter indicates the number of non-signal columns at the start of each row.\n",
    "\n",
    "# ------------------------------\n",
    "# Process TilingMPRA dataset\n",
    "# ------------------------------\n",
    "# Build the data file path for TilingMPRA using the open_region_root directory.\n",
    "data_path = os.path.join(open_region_root, 'tilingmpra.gz')\n",
    "# Specify the dataset name.\n",
    "dataset = 'TilingMPRA'\n",
    "# Call process_matrix_file to extract mean profiles.\n",
    "# The function returns two DataFrames: one for DNase-seq and one for ATAC-seq.\n",
    "tilingmpra_dnase_seq, tilingmpra_atac_seq = process_matrix_file(data_path, ['Lab-reported', 'Uniform Processed'], dataset, offset=6)\n",
    "\n",
    "# ------------------------------\n",
    "# Process LentiMPRA dataset\n",
    "# ------------------------------\n",
    "# Build the data file path for LentiMPRA.\n",
    "data_path = os.path.join(open_region_root, 'lentimpra.gz')\n",
    "# Set the dataset name.\n",
    "dataset = 'LentiMPRA'\n",
    "# Extract the DNase-seq and ATAC-seq mean profiles.\n",
    "lentimpra_dnase_seq, lentimpra_atac_seq = process_matrix_file(data_path, ['Lab-reported', 'Uniform Processed'], dataset, offset=6)\n",
    "\n",
    "# ------------------------------\n",
    "# Process ATAC-STARR-seq dataset\n",
    "# ------------------------------\n",
    "# Build the data file path for ATAC-STARR-seq.\n",
    "data_path = os.path.join(open_region_root, 'atac_starr.gz')\n",
    "# Set the dataset name.\n",
    "dataset = 'ATAC-STARR-seq'\n",
    "# Extract the DNase-seq and ATAC-seq mean profiles.\n",
    "atac_starr_dnase_seq, atac_starr_atac_seq = process_matrix_file(data_path, ['Lab-reported', 'Uniform Processed'], dataset, offset=6)\n",
    "\n",
    "# ------------------------------\n",
    "# Process WHG-STARR-seq dataset\n",
    "# ------------------------------\n",
    "# Build the data file path for WHG-STARR-seq.\n",
    "data_path = os.path.join(open_region_root, 'whg_starr.gz')\n",
    "# Set the dataset name.\n",
    "dataset = 'WHG-STARR-seq'\n",
    "# Extract the DNase-seq and ATAC-seq mean profiles.\n",
    "whg_starr_dnase_seq, whg_starr_atac_seq = process_matrix_file(data_path, ['Lab-reported', 'Uniform Processed'], dataset, offset=6)\n"
   ]
  },
  {
   "cell_type": "code",
   "execution_count": 136,
   "id": "4bec7b23-5a84-4fdb-b71f-7f4ba9b8ddb7",
   "metadata": {
    "execution": {
     "iopub.execute_input": "2025-04-13T04:46:04.298978Z",
     "iopub.status.busy": "2025-04-13T04:46:04.298773Z",
     "iopub.status.idle": "2025-04-13T04:46:04.314406Z",
     "shell.execute_reply": "2025-04-13T04:46:04.314006Z",
     "shell.execute_reply.started": "2025-04-13T04:46:04.298953Z"
    },
    "tags": []
   },
   "outputs": [
    {
     "name": "stdout",
     "output_type": "stream",
     "text": [
      "Dataset: TilingMPRA\n",
      "Profile type: DNase-seq\n",
      "Mann-Whitney U test result (statistic, p-value): 2749.0 1.2080421451798496e-50\n",
      "-----\n",
      "Dataset: LentiMPRA\n",
      "Profile type: DNase-seq\n",
      "Mann-Whitney U test result (statistic, p-value): 14613.0 1.588547769396821e-06\n",
      "-----\n",
      "Dataset: ATAC-STARR-seq\n",
      "Profile type: DNase-seq\n",
      "Mann-Whitney U test result (statistic, p-value): 14862.0 4.422181424671928e-06\n",
      "-----\n",
      "Dataset: WHG-STARR-seq\n",
      "Profile type: DNase-seq\n",
      "Mann-Whitney U test result (statistic, p-value): 11716.0 3.895832797856541e-13\n",
      "-----\n"
     ]
    }
   ],
   "source": [
    "# Paired comparisons between lab-reported and uniform processed calls.\n",
    "# For each DataFrame (representing a profile for a specific dataset and signal type),\n",
    "# we perform a Mann-Whitney U test comparing the signal values between the two groups:\n",
    "#  - \"Lab-reported\" (original calls)\n",
    "#  - \"Uniform Processed\" (processed calls)\n",
    "#\n",
    "# We assume that the data column containing the mean signal profiles is column 0.\n",
    "# The 'alternative' parameter is set to 'less', testing whether the values in the lab-reported group\n",
    "# are statistically lower than those in the uniform processed group.\n",
    "\n",
    "for data in [tilingmpra_dnase_seq, lentimpra_dnase_seq, atac_starr_dnase_seq, whg_starr_dnase_seq]:\n",
    "    # Separate the data into two groups based on the 'call_type' column.\n",
    "    lab_reported = data[data['call_type'] == 'Lab-reported']\n",
    "    uniform_processed = data[data['call_type'] == 'Uniform Processed']\n",
    "    \n",
    "    # Retrieve the dataset name from the 'dataset' column (assumes all rows have the same dataset value).\n",
    "    dataset = data['dataset'].tolist()[0]\n",
    "    print(\"Dataset:\", dataset)\n",
    "    \n",
    "    # Retrieve the profile type (e.g., DNase-seq) from the 'profile_type' column.\n",
    "    profile_type = data['profile_type'].tolist()[0]\n",
    "    print(\"Profile type:\", profile_type)\n",
    "    \n",
    "    # Perform the Mann-Whitney U test on the mean signal values.\n",
    "    # We assume that the signal values are stored in column 0 of the DataFrame.\n",
    "    test_statistic, p_value = scipy.stats.mannwhitneyu(\n",
    "        lab_reported[0].values, \n",
    "        uniform_processed[0].values, \n",
    "        alternative='less'\n",
    "    )\n",
    "    print(\"Mann-Whitney U test result (statistic, p-value):\", test_statistic, p_value)\n",
    "    print('-----')\n",
    "    "
   ]
  },
  {
   "cell_type": "code",
   "execution_count": 137,
   "id": "4cc04e07-74a6-4c78-b1a5-dfeb92a36704",
   "metadata": {
    "execution": {
     "iopub.execute_input": "2025-04-13T04:46:04.315335Z",
     "iopub.status.busy": "2025-04-13T04:46:04.315150Z",
     "iopub.status.idle": "2025-04-13T04:46:05.719013Z",
     "shell.execute_reply": "2025-04-13T04:46:05.718615Z",
     "shell.execute_reply.started": "2025-04-13T04:46:04.315317Z"
    },
    "tags": []
   },
   "outputs": [
    {
     "name": "stderr",
     "output_type": "stream",
     "text": [
      "<ipython-input-133-bee54acd818d>:59: UserWarning: FixedFormatter should only be used together with FixedLocator\n",
      "  ax.set_xticklabels(x_tick_labels, rotation=rotation, fontsize=17)\n",
      "<ipython-input-133-bee54acd818d>:64: UserWarning: FixedFormatter should only be used together with FixedLocator\n",
      "  ax.set_yticklabels(y_ticks, fontsize=17)\n"
     ]
    },
    {
     "data": {
      "image/png": "[encoded data removed]",
      "text/plain": [
       "<Figure size 360x288 with 1 Axes>"
      ]
     },
     "metadata": {
      "needs_background": "light"
     },
     "output_type": "display_data"
    }
   ],
   "source": [
    "# DNase-seq \n",
    "plot_df = pd.concat([tilingmpra_dnase_seq, lentimpra_dnase_seq, atac_starr_dnase_seq, whg_starr_dnase_seq], ignore_index=True, axis=0)\n",
    "plot_df.columns = ['signal', 'profile_type', 'call_type', 'dataset']\n",
    "\n",
    "boxplot(data=plot_df,\n",
    "    x_col='dataset',\n",
    "    y_col='signal',\n",
    "    hue_col='call_type',\n",
    "    hue_order=['Lab-reported', 'Uniform Processed'],\n",
    "    x_order=['TilingMPRA', 'LentiMPRA', 'ATAC-STARR-seq', 'WHG-STARR-seq'],\n",
    "    xlabel='Dataset',\n",
    "    ylabel='DNase-seq Signal',\n",
    "    x_tick_labels=['TilingMPRA', 'LentiMPRA', 'ATAC-STARR-seq', 'WHG-STARR-seq'],\n",
    "    out_path='',\n",
    "    rotation=30)\n"
   ]
  },
  {
   "cell_type": "code",
   "execution_count": 138,
   "id": "c83fdbd5-4db7-4c3c-a95c-21ef1ba9a622",
   "metadata": {
    "execution": {
     "iopub.execute_input": "2025-04-13T04:46:19.040580Z",
     "iopub.status.busy": "2025-04-13T04:46:19.040302Z",
     "iopub.status.idle": "2025-04-13T04:46:19.055256Z",
     "shell.execute_reply": "2025-04-13T04:46:19.054831Z",
     "shell.execute_reply.started": "2025-04-13T04:46:19.040560Z"
    },
    "tags": []
   },
   "outputs": [
    {
     "name": "stdout",
     "output_type": "stream",
     "text": [
      "Dataset: TilingMPRA\n",
      "Profile type: ATAC-seq\n",
      "Mann-Whitney U test result (statistic, p-value): 3935.0 3.400575013461558e-44\n",
      "-----\n",
      "Dataset: LentiMPRA\n",
      "Profile type: ATAC-seq\n",
      "Mann-Whitney U test result (statistic, p-value): 17038.0 0.005210547310066756\n",
      "-----\n",
      "Dataset: ATAC-STARR-seq\n",
      "Profile type: ATAC-seq\n",
      "Mann-Whitney U test result (statistic, p-value): 16385.0 0.0008849739133617897\n",
      "-----\n",
      "Dataset: WHG-STARR-seq\n",
      "Profile type: ATAC-seq\n",
      "Mann-Whitney U test result (statistic, p-value): 12468.0 3.650680307153855e-11\n",
      "-----\n"
     ]
    }
   ],
   "source": [
    "# Paired comparisons between lab-reported and uniform processed calls.\n",
    "# For each DataFrame (representing a profile for a specific dataset and signal type),\n",
    "# we perform a Mann-Whitney U test comparing the signal values between the two groups:\n",
    "#  - \"Lab-reported\" (original calls)\n",
    "#  - \"Uniform Processed\" (processed calls)\n",
    "#\n",
    "# We assume that the data column containing the mean signal profiles is column 0.\n",
    "# The 'alternative' parameter is set to 'less', testing whether the values in the lab-reported group\n",
    "# are statistically lower than those in the uniform processed group.\n",
    "\n",
    "for data in [tilingmpra_atac_seq, lentimpra_atac_seq, atac_starr_atac_seq, whg_starr_atac_seq]:\n",
    "    # Separate the data into two groups based on the 'call_type' column.\n",
    "    lab_reported = data[data['call_type'] == 'Lab-reported']\n",
    "    uniform_processed = data[data['call_type'] == 'Uniform Processed']\n",
    "    \n",
    "    # Retrieve the dataset name from the 'dataset' column (assumes all rows have the same dataset value).\n",
    "    dataset = data['dataset'].tolist()[0]\n",
    "    print(\"Dataset:\", dataset)\n",
    "    \n",
    "    # Retrieve the profile type (e.g., DNase-seq) from the 'profile_type' column.\n",
    "    profile_type = data['profile_type'].tolist()[0]\n",
    "    print(\"Profile type:\", profile_type)\n",
    "    \n",
    "    # Perform the Mann-Whitney U test on the mean signal values.\n",
    "    # We assume that the signal values are stored in column 0 of the DataFrame.\n",
    "    test_statistic, p_value = scipy.stats.mannwhitneyu(\n",
    "        lab_reported[0].values, \n",
    "        uniform_processed[0].values, \n",
    "        alternative='less'\n",
    "    )\n",
    "    print(\"Mann-Whitney U test result (statistic, p-value):\", test_statistic, p_value)\n",
    "    print('-----')\n",
    "    "
   ]
  },
  {
   "cell_type": "code",
   "execution_count": 139,
   "id": "382014f6-0059-4293-a2c3-c8bfaabea0c1",
   "metadata": {
    "execution": {
     "iopub.execute_input": "2025-04-13T04:46:45.384806Z",
     "iopub.status.busy": "2025-04-13T04:46:45.384524Z",
     "iopub.status.idle": "2025-04-13T04:46:45.553011Z",
     "shell.execute_reply": "2025-04-13T04:46:45.552596Z",
     "shell.execute_reply.started": "2025-04-13T04:46:45.384785Z"
    },
    "tags": []
   },
   "outputs": [
    {
     "name": "stderr",
     "output_type": "stream",
     "text": [
      "<ipython-input-133-bee54acd818d>:59: UserWarning: FixedFormatter should only be used together with FixedLocator\n",
      "  ax.set_xticklabels(x_tick_labels, rotation=rotation, fontsize=17)\n",
      "<ipython-input-133-bee54acd818d>:64: UserWarning: FixedFormatter should only be used together with FixedLocator\n",
      "  ax.set_yticklabels(y_ticks, fontsize=17)\n"
     ]
    },
    {
     "data": {
      "image/png": "[encoded data removed]",
      "text/plain": [
       "<Figure size 360x288 with 1 Axes>"
      ]
     },
     "metadata": {
      "needs_background": "light"
     },
     "output_type": "display_data"
    }
   ],
   "source": [
    "# ATAC-seq\n",
    "plot_df = pd.concat([tilingmpra_atac_seq, lentimpra_atac_seq, atac_starr_atac_seq, whg_starr_atac_seq], ignore_index=True, axis=0)\n",
    "plot_df.columns = ['signal', 'profile_type', 'call_type', 'dataset']\n",
    "\n",
    "boxplot(data=plot_df,\n",
    "    x_col='dataset',\n",
    "    y_col='signal',\n",
    "    hue_col='call_type',\n",
    "    hue_order=['Lab-reported', 'Uniform Processed'],\n",
    "    x_order=['TilingMPRA', 'LentiMPRA', 'ATAC-STARR-seq', 'WHG-STARR-seq'],\n",
    "    xlabel='Dataset',\n",
    "    ylabel='ATAC-seq Signal',\n",
    "    x_tick_labels=['TilingMPRA', 'LentiMPRA', 'ATAC-STARR-seq', 'WHG-STARR-seq'],\n",
    "    out_path='',\n",
    "    rotation=30)\n"
   ]
  },
  {
   "cell_type": "markdown",
   "id": "ae30b760-0f4a-4033-940e-f45222b0cd6a",
   "metadata": {},
   "source": [
    "## Histone"
   ]
  },
  {
   "cell_type": "code",
   "execution_count": 140,
   "id": "40f064b2-3759-49a2-99fa-6b88973e6c30",
   "metadata": {
    "execution": {
     "iopub.execute_input": "2025-04-13T04:47:43.450057Z",
     "iopub.status.busy": "2025-04-13T04:47:43.449792Z",
     "iopub.status.idle": "2025-04-13T04:47:43.452458Z",
     "shell.execute_reply": "2025-04-13T04:47:43.452046Z",
     "shell.execute_reply.started": "2025-04-13T04:47:43.450036Z"
    }
   },
   "outputs": [],
   "source": [
    "\n",
    "# Histone: H3K4me3, H3K27ac\n",
    "histone_root = os.path.join(project_root, 'data', 'output', 'computeMatrix', \n",
    "                                'original_vs_processed', 'matrix_Histone')\n"
   ]
  },
  {
   "cell_type": "code",
   "execution_count": 141,
   "id": "a1ed0c09-cd54-47db-b988-ad1b0599f6bf",
   "metadata": {
    "execution": {
     "iopub.execute_input": "2025-04-13T04:48:46.187584Z",
     "iopub.status.busy": "2025-04-13T04:48:46.187309Z",
     "iopub.status.idle": "2025-04-13T04:48:58.803301Z",
     "shell.execute_reply": "2025-04-13T04:48:58.802505Z",
     "shell.execute_reply.started": "2025-04-13T04:48:46.187564Z"
    },
    "tags": []
   },
   "outputs": [
    {
     "name": "stderr",
     "output_type": "stream",
     "text": [
      "<ipython-input-84-e64b57c15db3>:63: DtypeWarning: Columns (4) have mixed types. Specify dtype option on import or set low_memory=False.\n",
      "  df = pd.read_csv(data_path, sep='\\t', skiprows=1, header=None)\n",
      "<ipython-input-84-e64b57c15db3>:63: DtypeWarning: Columns (4) have mixed types. Specify dtype option on import or set low_memory=False.\n",
      "  df = pd.read_csv(data_path, sep='\\t', skiprows=1, header=None)\n"
     ]
    }
   ],
   "source": [
    "# Histone mean profile computation for multiple datasets.\n",
    "# The function `process_matrix_file` reads a computeMatrix .gz file, parses its metadata to obtain\n",
    "# sample boundaries (e.g., [0, 200, 400]) and group boundaries, and then computes the mean signal profiles\n",
    "# for two groups (e.g., Lab-reported and Uniform Processed). It returns two DataFrames:\n",
    "#   - One for H3K4me3 (sample 1)\n",
    "#   - One for H3K27ac (sample 2)\n",
    "# The 'offset' parameter indicates the number of non-signal columns at the start of each row.\n",
    "\n",
    "# ------------------------------\n",
    "# Process TilingMPRA dataset\n",
    "# ------------------------------\n",
    "# Build the data file path for TilingMPRA using the open_region_root directory.\n",
    "data_path = os.path.join(histone_root, 'tilingmpra.gz')\n",
    "# Specify the dataset name.\n",
    "dataset = 'TilingMPRA'\n",
    "# Call process_matrix_file to extract mean profiles.\n",
    "# The function returns two DataFrames: one for DNase-seq and one for ATAC-seq.\n",
    "tilingmpra_h3k4me3_seq, tilingmpra_h3k27ac_seq = process_matrix_file(data_path, ['Lab-reported', 'Uniform Processed'], dataset, offset=6)\n",
    "\n",
    "# ------------------------------\n",
    "# Process LentiMPRA dataset\n",
    "# ------------------------------\n",
    "# Build the data file path for LentiMPRA.\n",
    "data_path = os.path.join(histone_root, 'lentimpra.gz')\n",
    "# Set the dataset name.\n",
    "dataset = 'LentiMPRA'\n",
    "# Extract the DNase-seq and ATAC-seq mean profiles.\n",
    "lentimpra_h3k4me3_seq, lentimpra_h3k27ac_seq = process_matrix_file(data_path, ['Lab-reported', 'Uniform Processed'], dataset, offset=6)\n",
    "\n",
    "# ------------------------------\n",
    "# Process ATAC-STARR-seq dataset\n",
    "# ------------------------------\n",
    "# Build the data file path for ATAC-STARR-seq.\n",
    "data_path = os.path.join(histone_root, 'atac_starr.gz')\n",
    "# Set the dataset name.\n",
    "dataset = 'ATAC-STARR-seq'\n",
    "# Extract the DNase-seq and ATAC-seq mean profiles.\n",
    "atac_starr_h3k4me3_seq, atac_starr_h3k27ac_seq = process_matrix_file(data_path, ['Lab-reported', 'Uniform Processed'], dataset, offset=6)\n",
    "\n",
    "# ------------------------------\n",
    "# Process WHG-STARR-seq dataset\n",
    "# ------------------------------\n",
    "# Build the data file path for WHG-STARR-seq.\n",
    "data_path = os.path.join(histone_root, 'whg_starr.gz')\n",
    "# Set the dataset name.\n",
    "dataset = 'WHG-STARR-seq'\n",
    "# Extract the DNase-seq and ATAC-seq mean profiles.\n",
    "whg_starr_h3k4me3_seq, whg_starr_h3k27ac_seq = process_matrix_file(data_path, ['Lab-reported', 'Uniform Processed'], dataset, offset=6)\n"
   ]
  },
  {
   "cell_type": "code",
   "execution_count": 143,
   "id": "a0132dc4-44be-4ee6-8142-fa2b2d0ce471",
   "metadata": {
    "execution": {
     "iopub.execute_input": "2025-04-13T04:49:22.989615Z",
     "iopub.status.busy": "2025-04-13T04:49:22.989358Z",
     "iopub.status.idle": "2025-04-13T04:49:23.026532Z",
     "shell.execute_reply": "2025-04-13T04:49:23.026107Z",
     "shell.execute_reply.started": "2025-04-13T04:49:22.989595Z"
    },
    "tags": []
   },
   "outputs": [
    {
     "name": "stdout",
     "output_type": "stream",
     "text": [
      "Dataset: TilingMPRA\n",
      "Profile type: H3K4me3\n",
      "Mann-Whitney U test result (statistic, p-value): 0.0 2.4154281951986995e-67\n",
      "-----\n",
      "Dataset: LentiMPRA\n",
      "Profile type: H3K4me3\n",
      "Mann-Whitney U test result (statistic, p-value): 3917.0 2.7356932021834577e-44\n",
      "-----\n",
      "Dataset: ATAC-STARR-seq\n",
      "Profile type: H3K4me3\n",
      "Mann-Whitney U test result (statistic, p-value): 8599.0 3.077715781514708e-23\n",
      "-----\n",
      "Dataset: WHG-STARR-seq\n",
      "Profile type: H3K4me3\n",
      "Mann-Whitney U test result (statistic, p-value): 0.0 2.4154281951986995e-67\n",
      "-----\n"
     ]
    }
   ],
   "source": [
    "# Paired comparisons between lab-reported and uniform processed calls.\n",
    "# For each DataFrame (representing a profile for a specific dataset and signal type),\n",
    "# we perform a Mann-Whitney U test comparing the signal values between the two groups:\n",
    "#  - \"Lab-reported\" (original calls)\n",
    "#  - \"Uniform Processed\" (processed calls)\n",
    "#\n",
    "# We assume that the data column containing the mean signal profiles is column 0.\n",
    "# The 'alternative' parameter is set to 'less', testing whether the values in the lab-reported group\n",
    "# are statistically lower than those in the uniform processed group.\n",
    "\n",
    "for data in [tilingmpra_h3k4me3_seq, lentimpra_h3k4me3_seq, atac_starr_h3k4me3_seq, whg_starr_h3k4me3_seq]:\n",
    "    # Separate the data into two groups based on the 'call_type' column.\n",
    "    lab_reported = data[data['call_type'] == 'Lab-reported']\n",
    "    uniform_processed = data[data['call_type'] == 'Uniform Processed']\n",
    "    \n",
    "    # Retrieve the dataset name from the 'dataset' column (assumes all rows have the same dataset value).\n",
    "    dataset = data['dataset'].tolist()[0]\n",
    "    print(\"Dataset:\", dataset)\n",
    "    \n",
    "    # Retrieve the profile type (e.g., DNase-seq) from the 'profile_type' column.\n",
    "    profile_type = data['profile_type'].tolist()[0]\n",
    "    print(\"Profile type:\", profile_type)\n",
    "    \n",
    "    # Perform the Mann-Whitney U test on the mean signal values.\n",
    "    # We assume that the signal values are stored in column 0 of the DataFrame.\n",
    "    test_statistic, p_value = scipy.stats.mannwhitneyu(\n",
    "        lab_reported[0].values, \n",
    "        uniform_processed[0].values, \n",
    "        alternative='less'\n",
    "    )\n",
    "    print(\"Mann-Whitney U test result (statistic, p-value):\", test_statistic, p_value)\n",
    "    print('-----')\n",
    "    "
   ]
  },
  {
   "cell_type": "code",
   "execution_count": 144,
   "id": "8da3fe9a-ae88-4e82-9918-c4860793695d",
   "metadata": {
    "execution": {
     "iopub.execute_input": "2025-04-13T04:50:02.675508Z",
     "iopub.status.busy": "2025-04-13T04:50:02.675186Z",
     "iopub.status.idle": "2025-04-13T04:50:02.847874Z",
     "shell.execute_reply": "2025-04-13T04:50:02.847467Z",
     "shell.execute_reply.started": "2025-04-13T04:50:02.675487Z"
    },
    "tags": []
   },
   "outputs": [
    {
     "name": "stderr",
     "output_type": "stream",
     "text": [
      "<ipython-input-133-bee54acd818d>:59: UserWarning: FixedFormatter should only be used together with FixedLocator\n",
      "  ax.set_xticklabels(x_tick_labels, rotation=rotation, fontsize=17)\n",
      "<ipython-input-133-bee54acd818d>:64: UserWarning: FixedFormatter should only be used together with FixedLocator\n",
      "  ax.set_yticklabels(y_ticks, fontsize=17)\n"
     ]
    },
    {
     "data": {
      "image/png": "[encoded data removed]",
      "text/plain": [
       "<Figure size 360x288 with 1 Axes>"
      ]
     },
     "metadata": {
      "needs_background": "light"
     },
     "output_type": "display_data"
    }
   ],
   "source": [
    "# H3K4me3 \n",
    "plot_df = pd.concat([tilingmpra_h3k4me3_seq, lentimpra_h3k4me3_seq, atac_starr_h3k4me3_seq, whg_starr_h3k4me3_seq], ignore_index=True, axis=0)\n",
    "plot_df.columns = ['signal', 'profile_type', 'call_type', 'dataset']\n",
    "\n",
    "boxplot(data=plot_df,\n",
    "    x_col='dataset',\n",
    "    y_col='signal',\n",
    "    hue_col='call_type',\n",
    "    hue_order=['Lab-reported', 'Uniform Processed'],\n",
    "    x_order=['TilingMPRA', 'LentiMPRA', 'ATAC-STARR-seq', 'WHG-STARR-seq'],\n",
    "    xlabel='Dataset',\n",
    "    ylabel='H3K4me3 Signal',\n",
    "    x_tick_labels=['TilingMPRA', 'LentiMPRA', 'ATAC-STARR-seq', 'WHG-STARR-seq'],\n",
    "    out_path='',\n",
    "    rotation=30)\n"
   ]
  },
  {
   "cell_type": "code",
   "execution_count": 145,
   "id": "31e46510-2d4c-40d8-8895-ede170ab34ff",
   "metadata": {
    "execution": {
     "iopub.execute_input": "2025-04-13T04:50:29.605174Z",
     "iopub.status.busy": "2025-04-13T04:50:29.604890Z",
     "iopub.status.idle": "2025-04-13T04:50:29.619740Z",
     "shell.execute_reply": "2025-04-13T04:50:29.619311Z",
     "shell.execute_reply.started": "2025-04-13T04:50:29.605151Z"
    },
    "tags": []
   },
   "outputs": [
    {
     "name": "stdout",
     "output_type": "stream",
     "text": [
      "Dataset: TilingMPRA\n",
      "Profile type: H3K27ac\n",
      "Mann-Whitney U test result (statistic, p-value): 0.0 2.4154281951986995e-67\n",
      "-----\n",
      "Dataset: LentiMPRA\n",
      "Profile type: H3K27ac\n",
      "Mann-Whitney U test result (statistic, p-value): 8029.0 2.0105104083728246e-25\n",
      "-----\n",
      "Dataset: ATAC-STARR-seq\n",
      "Profile type: H3K27ac\n",
      "Mann-Whitney U test result (statistic, p-value): 6478.0 6.731356938142183e-32\n",
      "-----\n",
      "Dataset: WHG-STARR-seq\n",
      "Profile type: H3K27ac\n",
      "Mann-Whitney U test result (statistic, p-value): 0.0 2.4154281951986995e-67\n",
      "-----\n"
     ]
    }
   ],
   "source": [
    "# Paired comparisons between lab-reported and uniform processed calls.\n",
    "# For each DataFrame (representing a profile for a specific dataset and signal type),\n",
    "# we perform a Mann-Whitney U test comparing the signal values between the two groups:\n",
    "#  - \"Lab-reported\" (original calls)\n",
    "#  - \"Uniform Processed\" (processed calls)\n",
    "#\n",
    "# We assume that the data column containing the mean signal profiles is column 0.\n",
    "# The 'alternative' parameter is set to 'less', testing whether the values in the lab-reported group\n",
    "# are statistically lower than those in the uniform processed group.\n",
    "\n",
    "for data in [tilingmpra_h3k27ac_seq, lentimpra_h3k27ac_seq, atac_starr_h3k27ac_seq, whg_starr_h3k27ac_seq]:\n",
    "    # Separate the data into two groups based on the 'call_type' column.\n",
    "    lab_reported = data[data['call_type'] == 'Lab-reported']\n",
    "    uniform_processed = data[data['call_type'] == 'Uniform Processed']\n",
    "    \n",
    "    # Retrieve the dataset name from the 'dataset' column (assumes all rows have the same dataset value).\n",
    "    dataset = data['dataset'].tolist()[0]\n",
    "    print(\"Dataset:\", dataset)\n",
    "    \n",
    "    # Retrieve the profile type (e.g., DNase-seq) from the 'profile_type' column.\n",
    "    profile_type = data['profile_type'].tolist()[0]\n",
    "    print(\"Profile type:\", profile_type)\n",
    "    \n",
    "    # Perform the Mann-Whitney U test on the mean signal values.\n",
    "    # We assume that the signal values are stored in column 0 of the DataFrame.\n",
    "    test_statistic, p_value = scipy.stats.mannwhitneyu(\n",
    "        lab_reported[0].values, \n",
    "        uniform_processed[0].values, \n",
    "        alternative='less'\n",
    "    )\n",
    "    print(\"Mann-Whitney U test result (statistic, p-value):\", test_statistic, p_value)\n",
    "    print('-----')\n",
    "    "
   ]
  },
  {
   "cell_type": "code",
   "execution_count": 146,
   "id": "f387f4bf-8b96-403d-a66c-80256ba6ad8c",
   "metadata": {
    "execution": {
     "iopub.execute_input": "2025-04-13T04:50:47.748781Z",
     "iopub.status.busy": "2025-04-13T04:50:47.748519Z",
     "iopub.status.idle": "2025-04-13T04:50:47.908748Z",
     "shell.execute_reply": "2025-04-13T04:50:47.908339Z",
     "shell.execute_reply.started": "2025-04-13T04:50:47.748761Z"
    },
    "tags": []
   },
   "outputs": [
    {
     "name": "stderr",
     "output_type": "stream",
     "text": [
      "<ipython-input-133-bee54acd818d>:59: UserWarning: FixedFormatter should only be used together with FixedLocator\n",
      "  ax.set_xticklabels(x_tick_labels, rotation=rotation, fontsize=17)\n",
      "<ipython-input-133-bee54acd818d>:64: UserWarning: FixedFormatter should only be used together with FixedLocator\n",
      "  ax.set_yticklabels(y_ticks, fontsize=17)\n"
     ]
    },
    {
     "data": {
      "image/png": "[encoded data removed]",
      "text/plain": [
       "<Figure size 360x288 with 1 Axes>"
      ]
     },
     "metadata": {
      "needs_background": "light"
     },
     "output_type": "display_data"
    }
   ],
   "source": [
    "# ATAC-seq\n",
    "plot_df = pd.concat([tilingmpra_h3k27ac_seq, lentimpra_h3k27ac_seq, atac_starr_h3k27ac_seq, whg_starr_h3k27ac_seq], ignore_index=True, axis=0)\n",
    "plot_df.columns = ['signal', 'profile_type', 'call_type', 'dataset']\n",
    "\n",
    "boxplot(data=plot_df,\n",
    "    x_col='dataset',\n",
    "    y_col='signal',\n",
    "    hue_col='call_type',\n",
    "    hue_order=['Lab-reported', 'Uniform Processed'],\n",
    "    x_order=['TilingMPRA', 'LentiMPRA', 'ATAC-STARR-seq', 'WHG-STARR-seq'],\n",
    "    xlabel='Dataset',\n",
    "    ylabel='H3K27ac Signal',\n",
    "    x_tick_labels=['TilingMPRA', 'LentiMPRA', 'ATAC-STARR-seq', 'WHG-STARR-seq'],\n",
    "    out_path='',\n",
    "    rotation=30)\n"
   ]
  },
  {
   "cell_type": "code",
   "execution_count": null,
   "id": "631a981a-87b0-4fc0-ba9e-88dfd90374aa",
   "metadata": {},
   "outputs": [],
   "source": []
  },
  {
   "cell_type": "markdown",
   "id": "07b8f8e0-7d0c-4113-ba92-5cb761249136",
   "metadata": {},
   "source": [
    "# Orientation-independent calls vs. Either Orientation calls"
   ]
  },
  {
   "cell_type": "markdown",
   "id": "d95d0c83-e2cf-46d8-bc72-e0b044ec8728",
   "metadata": {},
   "source": [
    "## DNase-seq & ATAC-seq"
   ]
  },
  {
   "cell_type": "code",
   "execution_count": 168,
   "id": "817d5fde-cb4d-42a6-bc89-6b76441e4c92",
   "metadata": {
    "execution": {
     "iopub.execute_input": "2025-04-13T05:00:17.286290Z",
     "iopub.status.busy": "2025-04-13T05:00:17.286017Z",
     "iopub.status.idle": "2025-04-13T05:00:17.288812Z",
     "shell.execute_reply": "2025-04-13T05:00:17.288360Z",
     "shell.execute_reply.started": "2025-04-13T05:00:17.286267Z"
    },
    "tags": []
   },
   "outputs": [],
   "source": [
    "# DNase-seq & ATAC-seq\n",
    "open_region_root = os.path.join(project_root, 'data', 'output', 'computeMatrix', \n",
    "                                'orientation_comparison', 'matrix_DNase_ATAC')\n"
   ]
  },
  {
   "cell_type": "code",
   "execution_count": 175,
   "id": "e2e49368-127e-4c83-b7f1-d03f970f81af",
   "metadata": {
    "execution": {
     "iopub.execute_input": "2025-04-13T05:02:55.541907Z",
     "iopub.status.busy": "2025-04-13T05:02:55.541665Z",
     "iopub.status.idle": "2025-04-13T05:02:55.544189Z",
     "shell.execute_reply": "2025-04-13T05:02:55.543781Z",
     "shell.execute_reply.started": "2025-04-13T05:02:55.541888Z"
    },
    "tags": []
   },
   "outputs": [],
   "source": [
    "data_path = os.path.join(open_region_root, 'atac_starr.gz')\n",
    "# Set the dataset name.\n",
    "dataset = 'ATAC-STARR-seq'\n"
   ]
  },
  {
   "cell_type": "code",
   "execution_count": 176,
   "id": "3f4a0702-7d5f-4990-8591-aff11296a95c",
   "metadata": {
    "execution": {
     "iopub.execute_input": "2025-04-13T05:03:00.540767Z",
     "iopub.status.busy": "2025-04-13T05:03:00.540552Z",
     "iopub.status.idle": "2025-04-13T05:03:01.965832Z",
     "shell.execute_reply": "2025-04-13T05:03:01.965351Z",
     "shell.execute_reply.started": "2025-04-13T05:03:00.540746Z"
    },
    "tags": []
   },
   "outputs": [
    {
     "name": "stderr",
     "output_type": "stream",
     "text": [
      "<ipython-input-176-cb3b89638e32>:18: DtypeWarning: Columns (4) have mixed types. Specify dtype option on import or set low_memory=False.\n",
      "  df = pd.read_csv(data_path, sep='\\t', skiprows=1, header=None)\n"
     ]
    }
   ],
   "source": [
    "# Open the gz file in text mode and read the first line containing the metadata.\n",
    "with gzip.open(data_path, 'rt') as f:\n",
    "    meta_line = f.readline().strip()\n",
    "\n",
    "# Remove the leading \"@\" if it exists, then parse the JSON metadata.\n",
    "if meta_line.startswith(\"@\"):\n",
    "    meta_line = meta_line[1:]\n",
    "meta = json.loads(meta_line)\n",
    "\n",
    "# Extract dynamic boundaries from the metadata.\n",
    "sample_boundaries = meta.get(\"sample_boundaries\")  # e.g., [0, 200, 400]\n",
    "group_boundaries = meta.get(\"group_boundaries\")      # e.g., [0, 46906, 58585]\n",
    "\n",
    "# Retrieve sample labels from the metadata, or default to \"sample_1\", \"sample_2\", etc.\n",
    "sample_labels = meta.get(\"sample_labels\", [f\"sample_{i+1}\" for i in range(len(sample_boundaries)-1)])\n",
    "\n",
    "# Read the remaining signal data into a DataFrame, skipping the first metadata line.\n",
    "df = pd.read_csv(data_path, sep='\\t', skiprows=1, header=None)\n"
   ]
  },
  {
   "cell_type": "code",
   "execution_count": 177,
   "id": "c95dfad6-50bd-4ea1-aa1a-fc5e6dbe8485",
   "metadata": {
    "execution": {
     "iopub.execute_input": "2025-04-13T05:03:05.240931Z",
     "iopub.status.busy": "2025-04-13T05:03:05.240706Z",
     "iopub.status.idle": "2025-04-13T05:03:05.244500Z",
     "shell.execute_reply": "2025-04-13T05:03:05.244121Z",
     "shell.execute_reply.started": "2025-04-13T05:03:05.240911Z"
    }
   },
   "outputs": [
    {
     "data": {
      "text/plain": [
       "{'upstream': [1000, 1000],\n",
       " 'downstream': [1000, 1000],\n",
       " 'body': [0, 0],\n",
       " 'bin size': [10, 10],\n",
       " 'ref point': ['center', 'center'],\n",
       " 'verbose': False,\n",
       " 'bin avg type': 'mean',\n",
       " 'missing data as zero': False,\n",
       " 'min threshold': None,\n",
       " 'max threshold': None,\n",
       " 'scale': 1,\n",
       " 'skip zeros': False,\n",
       " 'nan after end': False,\n",
       " 'proc number': 1,\n",
       " 'sort regions': 'descend',\n",
       " 'sort using': 'mean',\n",
       " 'unscaled 5 prime': [0, 0],\n",
       " 'unscaled 3 prime': [0, 0],\n",
       " 'sample_labels': ['ENCFF972GVB', 'ENCFF102ARJ'],\n",
       " 'group_labels': ['merged_enhancer_peak_orientation_independent.bed.gz',\n",
       "  'merged_enhancer_peak_from_either_in_tested_both.bed.gz'],\n",
       " 'sample_boundaries': [0, 200, 400],\n",
       " 'group_boundaries': [0, 11679, 28100]}"
      ]
     },
     "execution_count": 177,
     "metadata": {},
     "output_type": "execute_result"
    }
   ],
   "source": [
    "meta\n"
   ]
  },
  {
   "cell_type": "code",
   "execution_count": 169,
   "id": "db592a1c-20f7-4fe1-b1d6-a13c90a2b001",
   "metadata": {
    "execution": {
     "iopub.execute_input": "2025-04-13T05:00:18.200168Z",
     "iopub.status.busy": "2025-04-13T05:00:18.199972Z",
     "iopub.status.idle": "2025-04-13T05:00:24.402724Z",
     "shell.execute_reply": "2025-04-13T05:00:24.401935Z",
     "shell.execute_reply.started": "2025-04-13T05:00:18.200150Z"
    },
    "tags": []
   },
   "outputs": [
    {
     "name": "stderr",
     "output_type": "stream",
     "text": [
      "<ipython-input-167-baa7b9f65d3c>:60: DtypeWarning: Columns (4) have mixed types. Specify dtype option on import or set low_memory=False.\n",
      "  df = pd.read_csv(data_path, sep='\\t', skiprows=1, header=None)\n",
      "<ipython-input-167-baa7b9f65d3c>:60: DtypeWarning: Columns (4) have mixed types. Specify dtype option on import or set low_memory=False.\n",
      "  df = pd.read_csv(data_path, sep='\\t', skiprows=1, header=None)\n",
      "<ipython-input-167-baa7b9f65d3c>:60: DtypeWarning: Columns (4) have mixed types. Specify dtype option on import or set low_memory=False.\n",
      "  df = pd.read_csv(data_path, sep='\\t', skiprows=1, header=None)\n"
     ]
    }
   ],
   "source": [
    "# DNase-seq and ATAC-seq mean profile computation for multiple datasets.\n",
    "# The function `process_matrix_file` reads a computeMatrix .gz file, parses its metadata to obtain\n",
    "# sample boundaries (e.g., [0, 200, 400]) and group boundaries, and then computes the mean signal profiles\n",
    "# for two groups (e.g., Lab-reported and Uniform Processed). It returns two DataFrames:\n",
    "#   - One for DNase-seq (sample 1)\n",
    "#   - One for ATAC-seq (sample 2)\n",
    "# The 'offset' parameter indicates the number of non-signal columns at the start of each row.\n",
    "\n",
    "# ------------------------------\n",
    "# Process LentiMPRA dataset\n",
    "# ------------------------------\n",
    "# Build the data file path for LentiMPRA.\n",
    "data_path = os.path.join(open_region_root, 'lentimpra.gz')\n",
    "# Set the dataset name.\n",
    "dataset = 'LentiMPRA'\n",
    "# Extract the DNase-seq and ATAC-seq mean profiles.\n",
    "lentimpra_dnase_seq, lentimpra_atac_seq = process_matrix_file(data_path, ['Both', 'Either'], dataset, offset=6)\n",
    "\n",
    "# ------------------------------\n",
    "# Process ATAC-STARR-seq dataset\n",
    "# ------------------------------\n",
    "# Build the data file path for ATAC-STARR-seq.\n",
    "data_path = os.path.join(open_region_root, 'atac_starr.gz')\n",
    "# Set the dataset name.\n",
    "dataset = 'ATAC-STARR-seq'\n",
    "# Extract the DNase-seq and ATAC-seq mean profiles.\n",
    "atac_starr_dnase_seq, atac_starr_atac_seq = process_matrix_file(data_path, ['Both', 'Either'], dataset, offset=6)\n",
    "\n",
    "# ------------------------------\n",
    "# Process WHG-STARR-seq dataset\n",
    "# ------------------------------\n",
    "# Build the data file path for WHG-STARR-seq.\n",
    "data_path = os.path.join(open_region_root, 'whg_starr.gz')\n",
    "# Set the dataset name.\n",
    "dataset = 'WHG-STARR-seq'\n",
    "# Extract the DNase-seq and ATAC-seq mean profiles.\n",
    "whg_starr_dnase_seq, whg_starr_atac_seq = process_matrix_file(data_path, ['Both', 'Either'], dataset, offset=6)\n"
   ]
  },
  {
   "cell_type": "code",
   "execution_count": 182,
   "id": "08bda86f-4414-44ce-8026-daf6460e86f4",
   "metadata": {
    "execution": {
     "iopub.execute_input": "2025-04-13T05:07:30.745803Z",
     "iopub.status.busy": "2025-04-13T05:07:30.745578Z",
     "iopub.status.idle": "2025-04-13T05:07:30.763553Z",
     "shell.execute_reply": "2025-04-13T05:07:30.763039Z",
     "shell.execute_reply.started": "2025-04-13T05:07:30.745783Z"
    },
    "tags": []
   },
   "outputs": [
    {
     "name": "stdout",
     "output_type": "stream",
     "text": [
      "Dataset: LentiMPRA\n",
      "Profile type: DNase-seq\n",
      "Mann-Whitney U test result (statistic, p-value): 14905.0 5.253641886254316e-06\n",
      "-----\n",
      "Dataset: ATAC-STARR-seq\n",
      "Profile type: DNase-seq\n",
      "Mann-Whitney U test result (statistic, p-value): 23302.0 0.9978581685813287\n",
      "-----\n",
      "Dataset: WHG-STARR-seq\n",
      "Profile type: DNase-seq\n",
      "Mann-Whitney U test result (statistic, p-value): 14952.0 6.332645106789477e-06\n",
      "-----\n"
     ]
    }
   ],
   "source": [
    "# Paired comparisons between lab-reported and uniform processed calls.\n",
    "# For each DataFrame (representing a profile for a specific dataset and signal type),\n",
    "# we perform a Mann-Whitney U test comparing the signal values between the two groups:\n",
    "#  - \"Lab-reported\" (original calls)\n",
    "#  - \"Uniform Processed\" (processed calls)\n",
    "#\n",
    "# We assume that the data column containing the mean signal profiles is column 0.\n",
    "# The 'alternative' parameter is set to 'less', testing whether the values in the lab-reported group\n",
    "# are statistically lower than those in the uniform processed group.\n",
    "\n",
    "for data in [lentimpra_dnase_seq, atac_starr_dnase_seq, whg_starr_dnase_seq]:\n",
    "    # Separate the data into two groups based on the 'call_type' column.\n",
    "    both = data[data['call_type'] == 'Both']\n",
    "    either = data[data['call_type'] == 'Either']\n",
    "    \n",
    "    # Retrieve the dataset name from the 'dataset' column (assumes all rows have the same dataset value).\n",
    "    dataset = data['dataset'].tolist()[0]\n",
    "    print(\"Dataset:\", dataset)\n",
    "    \n",
    "    # Retrieve the profile type (e.g., DNase-seq) from the 'profile_type' column.\n",
    "    profile_type = data['profile_type'].tolist()[0]\n",
    "    print(\"Profile type:\", profile_type)\n",
    "    \n",
    "    # Perform the Mann-Whitney U test on the mean signal values.\n",
    "    # We assume that the signal values are stored in column 0 of the DataFrame.\n",
    "    test_statistic, p_value = scipy.stats.mannwhitneyu(\n",
    "        either[0].values, \n",
    "        both[0].values, \n",
    "        alternative='less'\n",
    "    )\n",
    "    print(\"Mann-Whitney U test result (statistic, p-value):\", test_statistic, p_value)\n",
    "    print('-----')\n",
    "    "
   ]
  },
  {
   "cell_type": "code",
   "execution_count": 173,
   "id": "fbe2f4b7-230f-494a-936e-e1708070274e",
   "metadata": {
    "execution": {
     "iopub.execute_input": "2025-04-13T05:01:29.949467Z",
     "iopub.status.busy": "2025-04-13T05:01:29.949182Z",
     "iopub.status.idle": "2025-04-13T05:01:30.122819Z",
     "shell.execute_reply": "2025-04-13T05:01:30.122402Z",
     "shell.execute_reply.started": "2025-04-13T05:01:29.949446Z"
    },
    "tags": []
   },
   "outputs": [
    {
     "name": "stderr",
     "output_type": "stream",
     "text": [
      "<ipython-input-133-bee54acd818d>:59: UserWarning: FixedFormatter should only be used together with FixedLocator\n",
      "  ax.set_xticklabels(x_tick_labels, rotation=rotation, fontsize=17)\n",
      "<ipython-input-133-bee54acd818d>:64: UserWarning: FixedFormatter should only be used together with FixedLocator\n",
      "  ax.set_yticklabels(y_ticks, fontsize=17)\n"
     ]
    },
    {
     "data": {
      "image/png": "[encoded data removed]",
      "text/plain": [
       "<Figure size 360x288 with 1 Axes>"
      ]
     },
     "metadata": {
      "needs_background": "light"
     },
     "output_type": "display_data"
    }
   ],
   "source": [
    "# DNase-seq \n",
    "plot_df = pd.concat([lentimpra_dnase_seq, atac_starr_dnase_seq, whg_starr_dnase_seq], ignore_index=True, axis=0)\n",
    "plot_df.columns = ['signal', 'profile_type', 'call_type', 'dataset']\n",
    "\n",
    "boxplot(data=plot_df,\n",
    "    x_col='dataset',\n",
    "    y_col='signal',\n",
    "    hue_col='call_type',\n",
    "    hue_order=['Either', 'Both'],\n",
    "    x_order=['LentiMPRA', 'ATAC-STARR-seq', 'WHG-STARR-seq'],\n",
    "    xlabel='Dataset',\n",
    "    ylabel='DNase-seq Signal',\n",
    "    x_tick_labels=['LentiMPRA', 'ATAC-STARR-seq', 'WHG-STARR-seq'],\n",
    "    out_path='',\n",
    "    rotation=30)\n"
   ]
  },
  {
   "cell_type": "code",
   "execution_count": 183,
   "id": "71013d46-59a2-4c0a-b5c5-b4f303a6c11a",
   "metadata": {
    "execution": {
     "iopub.execute_input": "2025-04-13T05:08:18.111437Z",
     "iopub.status.busy": "2025-04-13T05:08:18.111151Z",
     "iopub.status.idle": "2025-04-13T05:08:18.124003Z",
     "shell.execute_reply": "2025-04-13T05:08:18.123534Z",
     "shell.execute_reply.started": "2025-04-13T05:08:18.111414Z"
    },
    "tags": []
   },
   "outputs": [
    {
     "name": "stdout",
     "output_type": "stream",
     "text": [
      "Dataset: LentiMPRA\n",
      "Profile type: ATAC-seq\n",
      "Mann-Whitney U test result (statistic, p-value): 17394.0 0.01211023309568871\n",
      "-----\n",
      "Dataset: ATAC-STARR-seq\n",
      "Profile type: ATAC-seq\n",
      "Mann-Whitney U test result (statistic, p-value): 21444.0 0.894242954530206\n",
      "-----\n",
      "Dataset: WHG-STARR-seq\n",
      "Profile type: ATAC-seq\n",
      "Mann-Whitney U test result (statistic, p-value): 14758.0 2.8992204829534577e-06\n",
      "-----\n"
     ]
    }
   ],
   "source": [
    "# Paired comparisons between lab-reported and uniform processed calls.\n",
    "# For each DataFrame (representing a profile for a specific dataset and signal type),\n",
    "# we perform a Mann-Whitney U test comparing the signal values between the two groups:\n",
    "#  - \"Lab-reported\" (original calls)\n",
    "#  - \"Uniform Processed\" (processed calls)\n",
    "#\n",
    "# We assume that the data column containing the mean signal profiles is column 0.\n",
    "# The 'alternative' parameter is set to 'less', testing whether the values in the lab-reported group\n",
    "# are statistically lower than those in the uniform processed group.\n",
    "\n",
    "for data in [lentimpra_atac_seq, atac_starr_atac_seq, whg_starr_atac_seq]:\n",
    "    # Separate the data into two groups based on the 'call_type' column.\n",
    "    both = data[data['call_type'] == 'Both']\n",
    "    either = data[data['call_type'] == 'Either']\n",
    "    \n",
    "    # Retrieve the dataset name from the 'dataset' column (assumes all rows have the same dataset value).\n",
    "    dataset = data['dataset'].tolist()[0]\n",
    "    print(\"Dataset:\", dataset)\n",
    "    \n",
    "    # Retrieve the profile type (e.g., DNase-seq) from the 'profile_type' column.\n",
    "    profile_type = data['profile_type'].tolist()[0]\n",
    "    print(\"Profile type:\", profile_type)\n",
    "    \n",
    "    # Perform the Mann-Whitney U test on the mean signal values.\n",
    "    # We assume that the signal values are stored in column 0 of the DataFrame.\n",
    "    test_statistic, p_value = scipy.stats.mannwhitneyu(\n",
    "        either[0].values, \n",
    "        both[0].values, \n",
    "        alternative='less'\n",
    "    )\n",
    "    print(\"Mann-Whitney U test result (statistic, p-value):\", test_statistic, p_value)\n",
    "    print('-----')\n",
    "    "
   ]
  },
  {
   "cell_type": "code",
   "execution_count": 184,
   "id": "21dd2663-5b30-43c1-ac3d-81da38187e35",
   "metadata": {
    "execution": {
     "iopub.execute_input": "2025-04-13T05:08:38.918948Z",
     "iopub.status.busy": "2025-04-13T05:08:38.918701Z",
     "iopub.status.idle": "2025-04-13T05:08:39.075824Z",
     "shell.execute_reply": "2025-04-13T05:08:39.075401Z",
     "shell.execute_reply.started": "2025-04-13T05:08:38.918928Z"
    },
    "tags": []
   },
   "outputs": [
    {
     "name": "stderr",
     "output_type": "stream",
     "text": [
      "<ipython-input-133-bee54acd818d>:59: UserWarning: FixedFormatter should only be used together with FixedLocator\n",
      "  ax.set_xticklabels(x_tick_labels, rotation=rotation, fontsize=17)\n",
      "<ipython-input-133-bee54acd818d>:64: UserWarning: FixedFormatter should only be used together with FixedLocator\n",
      "  ax.set_yticklabels(y_ticks, fontsize=17)\n"
     ]
    },
    {
     "data": {
      "image/png": "[encoded data removed]",
      "text/plain": [
       "<Figure size 360x288 with 1 Axes>"
      ]
     },
     "metadata": {
      "needs_background": "light"
     },
     "output_type": "display_data"
    }
   ],
   "source": [
    "# ATAC-seq\n",
    "plot_df = pd.concat([lentimpra_atac_seq, atac_starr_atac_seq, whg_starr_atac_seq], ignore_index=True, axis=0)\n",
    "plot_df.columns = ['signal', 'profile_type', 'call_type', 'dataset']\n",
    "\n",
    "boxplot(data=plot_df,\n",
    "    x_col='dataset',\n",
    "    y_col='signal',\n",
    "    hue_col='call_type',\n",
    "    hue_order=['Either', 'Both'],\n",
    "    x_order=['LentiMPRA', 'ATAC-STARR-seq', 'WHG-STARR-seq'],\n",
    "    xlabel='Dataset',\n",
    "    ylabel='ATAC-seq Signal',\n",
    "    x_tick_labels=['LentiMPRA', 'ATAC-STARR-seq', 'WHG-STARR-seq'],\n",
    "    out_path='',\n",
    "    rotation=30)\n"
   ]
  },
  {
   "cell_type": "markdown",
   "id": "f12c9c1e-e396-4d5a-a500-45619e42c5fd",
   "metadata": {},
   "source": [
    "## Histone"
   ]
  },
  {
   "cell_type": "code",
   "execution_count": 140,
   "id": "15b5d450-6ed9-4e5e-9ef1-66196acf3258",
   "metadata": {
    "execution": {
     "iopub.execute_input": "2025-04-13T04:47:43.450057Z",
     "iopub.status.busy": "2025-04-13T04:47:43.449792Z",
     "iopub.status.idle": "2025-04-13T04:47:43.452458Z",
     "shell.execute_reply": "2025-04-13T04:47:43.452046Z",
     "shell.execute_reply.started": "2025-04-13T04:47:43.450036Z"
    }
   },
   "outputs": [],
   "source": [
    "\n",
    "# Histone: H3K4me3, H3K27ac\n",
    "histone_root = os.path.join(project_root, 'data', 'output', 'computeMatrix', \n",
    "                                'original_vs_processed', 'matrix_Histone')\n"
   ]
  },
  {
   "cell_type": "code",
   "execution_count": 141,
   "id": "b927711f-d31a-4b4f-97a4-3263f0c1f88d",
   "metadata": {
    "execution": {
     "iopub.execute_input": "2025-04-13T04:48:46.187584Z",
     "iopub.status.busy": "2025-04-13T04:48:46.187309Z",
     "iopub.status.idle": "2025-04-13T04:48:58.803301Z",
     "shell.execute_reply": "2025-04-13T04:48:58.802505Z",
     "shell.execute_reply.started": "2025-04-13T04:48:46.187564Z"
    },
    "tags": []
   },
   "outputs": [
    {
     "name": "stderr",
     "output_type": "stream",
     "text": [
      "<ipython-input-84-e64b57c15db3>:63: DtypeWarning: Columns (4) have mixed types. Specify dtype option on import or set low_memory=False.\n",
      "  df = pd.read_csv(data_path, sep='\\t', skiprows=1, header=None)\n",
      "<ipython-input-84-e64b57c15db3>:63: DtypeWarning: Columns (4) have mixed types. Specify dtype option on import or set low_memory=False.\n",
      "  df = pd.read_csv(data_path, sep='\\t', skiprows=1, header=None)\n"
     ]
    }
   ],
   "source": [
    "# Histone mean profile computation for multiple datasets.\n",
    "# The function `process_matrix_file` reads a computeMatrix .gz file, parses its metadata to obtain\n",
    "# sample boundaries (e.g., [0, 200, 400]) and group boundaries, and then computes the mean signal profiles\n",
    "# for two groups (e.g., Lab-reported and Uniform Processed). It returns two DataFrames:\n",
    "#   - One for H3K4me3 (sample 1)\n",
    "#   - One for H3K27ac (sample 2)\n",
    "# The 'offset' parameter indicates the number of non-signal columns at the start of each row.\n",
    "\n",
    "# ------------------------------\n",
    "# Process TilingMPRA dataset\n",
    "# ------------------------------\n",
    "# Build the data file path for TilingMPRA using the open_region_root directory.\n",
    "data_path = os.path.join(histone_root, 'tilingmpra.gz')\n",
    "# Specify the dataset name.\n",
    "dataset = 'TilingMPRA'\n",
    "# Call process_matrix_file to extract mean profiles.\n",
    "# The function returns two DataFrames: one for DNase-seq and one for ATAC-seq.\n",
    "tilingmpra_h3k4me3_seq, tilingmpra_h3k27ac_seq = process_matrix_file(data_path, ['Lab-reported', 'Uniform Processed'], dataset, offset=6)\n",
    "\n",
    "# ------------------------------\n",
    "# Process LentiMPRA dataset\n",
    "# ------------------------------\n",
    "# Build the data file path for LentiMPRA.\n",
    "data_path = os.path.join(histone_root, 'lentimpra.gz')\n",
    "# Set the dataset name.\n",
    "dataset = 'LentiMPRA'\n",
    "# Extract the DNase-seq and ATAC-seq mean profiles.\n",
    "lentimpra_h3k4me3_seq, lentimpra_h3k27ac_seq = process_matrix_file(data_path, ['Lab-reported', 'Uniform Processed'], dataset, offset=6)\n",
    "\n",
    "# ------------------------------\n",
    "# Process ATAC-STARR-seq dataset\n",
    "# ------------------------------\n",
    "# Build the data file path for ATAC-STARR-seq.\n",
    "data_path = os.path.join(histone_root, 'atac_starr.gz')\n",
    "# Set the dataset name.\n",
    "dataset = 'ATAC-STARR-seq'\n",
    "# Extract the DNase-seq and ATAC-seq mean profiles.\n",
    "atac_starr_h3k4me3_seq, atac_starr_h3k27ac_seq = process_matrix_file(data_path, ['Lab-reported', 'Uniform Processed'], dataset, offset=6)\n",
    "\n",
    "# ------------------------------\n",
    "# Process WHG-STARR-seq dataset\n",
    "# ------------------------------\n",
    "# Build the data file path for WHG-STARR-seq.\n",
    "data_path = os.path.join(histone_root, 'whg_starr.gz')\n",
    "# Set the dataset name.\n",
    "dataset = 'WHG-STARR-seq'\n",
    "# Extract the DNase-seq and ATAC-seq mean profiles.\n",
    "whg_starr_h3k4me3_seq, whg_starr_h3k27ac_seq = process_matrix_file(data_path, ['Lab-reported', 'Uniform Processed'], dataset, offset=6)\n"
   ]
  },
  {
   "cell_type": "code",
   "execution_count": 143,
   "id": "0a3cafce-1ea9-424b-b96a-5951e7d8edc4",
   "metadata": {
    "execution": {
     "iopub.execute_input": "2025-04-13T04:49:22.989615Z",
     "iopub.status.busy": "2025-04-13T04:49:22.989358Z",
     "iopub.status.idle": "2025-04-13T04:49:23.026532Z",
     "shell.execute_reply": "2025-04-13T04:49:23.026107Z",
     "shell.execute_reply.started": "2025-04-13T04:49:22.989595Z"
    },
    "tags": []
   },
   "outputs": [
    {
     "name": "stdout",
     "output_type": "stream",
     "text": [
      "Dataset: TilingMPRA\n",
      "Profile type: H3K4me3\n",
      "Mann-Whitney U test result (statistic, p-value): 0.0 2.4154281951986995e-67\n",
      "-----\n",
      "Dataset: LentiMPRA\n",
      "Profile type: H3K4me3\n",
      "Mann-Whitney U test result (statistic, p-value): 3917.0 2.7356932021834577e-44\n",
      "-----\n",
      "Dataset: ATAC-STARR-seq\n",
      "Profile type: H3K4me3\n",
      "Mann-Whitney U test result (statistic, p-value): 8599.0 3.077715781514708e-23\n",
      "-----\n",
      "Dataset: WHG-STARR-seq\n",
      "Profile type: H3K4me3\n",
      "Mann-Whitney U test result (statistic, p-value): 0.0 2.4154281951986995e-67\n",
      "-----\n"
     ]
    }
   ],
   "source": [
    "# Paired comparisons between lab-reported and uniform processed calls.\n",
    "# For each DataFrame (representing a profile for a specific dataset and signal type),\n",
    "# we perform a Mann-Whitney U test comparing the signal values between the two groups:\n",
    "#  - \"Lab-reported\" (original calls)\n",
    "#  - \"Uniform Processed\" (processed calls)\n",
    "#\n",
    "# We assume that the data column containing the mean signal profiles is column 0.\n",
    "# The 'alternative' parameter is set to 'less', testing whether the values in the lab-reported group\n",
    "# are statistically lower than those in the uniform processed group.\n",
    "\n",
    "for data in [tilingmpra_h3k4me3_seq, lentimpra_h3k4me3_seq, atac_starr_h3k4me3_seq, whg_starr_h3k4me3_seq]:\n",
    "    # Separate the data into two groups based on the 'call_type' column.\n",
    "    lab_reported = data[data['call_type'] == 'Lab-reported']\n",
    "    uniform_processed = data[data['call_type'] == 'Uniform Processed']\n",
    "    \n",
    "    # Retrieve the dataset name from the 'dataset' column (assumes all rows have the same dataset value).\n",
    "    dataset = data['dataset'].tolist()[0]\n",
    "    print(\"Dataset:\", dataset)\n",
    "    \n",
    "    # Retrieve the profile type (e.g., DNase-seq) from the 'profile_type' column.\n",
    "    profile_type = data['profile_type'].tolist()[0]\n",
    "    print(\"Profile type:\", profile_type)\n",
    "    \n",
    "    # Perform the Mann-Whitney U test on the mean signal values.\n",
    "    # We assume that the signal values are stored in column 0 of the DataFrame.\n",
    "    test_statistic, p_value = scipy.stats.mannwhitneyu(\n",
    "        lab_reported[0].values, \n",
    "        uniform_processed[0].values, \n",
    "        alternative='less'\n",
    "    )\n",
    "    print(\"Mann-Whitney U test result (statistic, p-value):\", test_statistic, p_value)\n",
    "    print('-----')\n",
    "    "
   ]
  },
  {
   "cell_type": "code",
   "execution_count": 144,
   "id": "4602dbea-fffc-4813-b8d0-b716c19c2f9d",
   "metadata": {
    "execution": {
     "iopub.execute_input": "2025-04-13T04:50:02.675508Z",
     "iopub.status.busy": "2025-04-13T04:50:02.675186Z",
     "iopub.status.idle": "2025-04-13T04:50:02.847874Z",
     "shell.execute_reply": "2025-04-13T04:50:02.847467Z",
     "shell.execute_reply.started": "2025-04-13T04:50:02.675487Z"
    },
    "tags": []
   },
   "outputs": [
    {
     "name": "stderr",
     "output_type": "stream",
     "text": [
      "<ipython-input-133-bee54acd818d>:59: UserWarning: FixedFormatter should only be used together with FixedLocator\n",
      "  ax.set_xticklabels(x_tick_labels, rotation=rotation, fontsize=17)\n",
      "<ipython-input-133-bee54acd818d>:64: UserWarning: FixedFormatter should only be used together with FixedLocator\n",
      "  ax.set_yticklabels(y_ticks, fontsize=17)\n"
     ]
    },
    {
     "data": {
      "image/png": "[encoded data removed]",
      "text/plain": [
       "<Figure size 360x288 with 1 Axes>"
      ]
     },
     "metadata": {
      "needs_background": "light"
     },
     "output_type": "display_data"
    }
   ],
   "source": [
    "# H3K4me3 \n",
    "plot_df = pd.concat([tilingmpra_h3k4me3_seq, lentimpra_h3k4me3_seq, atac_starr_h3k4me3_seq, whg_starr_h3k4me3_seq], ignore_index=True, axis=0)\n",
    "plot_df.columns = ['signal', 'profile_type', 'call_type', 'dataset']\n",
    "\n",
    "boxplot(data=plot_df,\n",
    "    x_col='dataset',\n",
    "    y_col='signal',\n",
    "    hue_col='call_type',\n",
    "    hue_order=['Lab-reported', 'Uniform Processed'],\n",
    "    x_order=['TilingMPRA', 'LentiMPRA', 'ATAC-STARR-seq', 'WHG-STARR-seq'],\n",
    "    xlabel='Dataset',\n",
    "    ylabel='H3K4me3 Signal',\n",
    "    x_tick_labels=['TilingMPRA', 'LentiMPRA', 'ATAC-STARR-seq', 'WHG-STARR-seq'],\n",
    "    out_path='',\n",
    "    rotation=30)\n"
   ]
  },
  {
   "cell_type": "code",
   "execution_count": 145,
   "id": "ac310b27-f7b3-44b2-b0d8-77debed09e07",
   "metadata": {
    "execution": {
     "iopub.execute_input": "2025-04-13T04:50:29.605174Z",
     "iopub.status.busy": "2025-04-13T04:50:29.604890Z",
     "iopub.status.idle": "2025-04-13T04:50:29.619740Z",
     "shell.execute_reply": "2025-04-13T04:50:29.619311Z",
     "shell.execute_reply.started": "2025-04-13T04:50:29.605151Z"
    },
    "tags": []
   },
   "outputs": [
    {
     "name": "stdout",
     "output_type": "stream",
     "text": [
      "Dataset: TilingMPRA\n",
      "Profile type: H3K27ac\n",
      "Mann-Whitney U test result (statistic, p-value): 0.0 2.4154281951986995e-67\n",
      "-----\n",
      "Dataset: LentiMPRA\n",
      "Profile type: H3K27ac\n",
      "Mann-Whitney U test result (statistic, p-value): 8029.0 2.0105104083728246e-25\n",
      "-----\n",
      "Dataset: ATAC-STARR-seq\n",
      "Profile type: H3K27ac\n",
      "Mann-Whitney U test result (statistic, p-value): 6478.0 6.731356938142183e-32\n",
      "-----\n",
      "Dataset: WHG-STARR-seq\n",
      "Profile type: H3K27ac\n",
      "Mann-Whitney U test result (statistic, p-value): 0.0 2.4154281951986995e-67\n",
      "-----\n"
     ]
    }
   ],
   "source": [
    "# Paired comparisons between lab-reported and uniform processed calls.\n",
    "# For each DataFrame (representing a profile for a specific dataset and signal type),\n",
    "# we perform a Mann-Whitney U test comparing the signal values between the two groups:\n",
    "#  - \"Lab-reported\" (original calls)\n",
    "#  - \"Uniform Processed\" (processed calls)\n",
    "#\n",
    "# We assume that the data column containing the mean signal profiles is column 0.\n",
    "# The 'alternative' parameter is set to 'less', testing whether the values in the lab-reported group\n",
    "# are statistically lower than those in the uniform processed group.\n",
    "\n",
    "for data in [tilingmpra_h3k27ac_seq, lentimpra_h3k27ac_seq, atac_starr_h3k27ac_seq, whg_starr_h3k27ac_seq]:\n",
    "    # Separate the data into two groups based on the 'call_type' column.\n",
    "    lab_reported = data[data['call_type'] == 'Lab-reported']\n",
    "    uniform_processed = data[data['call_type'] == 'Uniform Processed']\n",
    "    \n",
    "    # Retrieve the dataset name from the 'dataset' column (assumes all rows have the same dataset value).\n",
    "    dataset = data['dataset'].tolist()[0]\n",
    "    print(\"Dataset:\", dataset)\n",
    "    \n",
    "    # Retrieve the profile type (e.g., DNase-seq) from the 'profile_type' column.\n",
    "    profile_type = data['profile_type'].tolist()[0]\n",
    "    print(\"Profile type:\", profile_type)\n",
    "    \n",
    "    # Perform the Mann-Whitney U test on the mean signal values.\n",
    "    # We assume that the signal values are stored in column 0 of the DataFrame.\n",
    "    test_statistic, p_value = scipy.stats.mannwhitneyu(\n",
    "        lab_reported[0].values, \n",
    "        uniform_processed[0].values, \n",
    "        alternative='less'\n",
    "    )\n",
    "    print(\"Mann-Whitney U test result (statistic, p-value):\", test_statistic, p_value)\n",
    "    print('-----')\n",
    "    "
   ]
  },
  {
   "cell_type": "code",
   "execution_count": 146,
   "id": "e451b38b-245a-448d-9e03-7b2cb4c0f8b8",
   "metadata": {
    "execution": {
     "iopub.execute_input": "2025-04-13T04:50:47.748781Z",
     "iopub.status.busy": "2025-04-13T04:50:47.748519Z",
     "iopub.status.idle": "2025-04-13T04:50:47.908748Z",
     "shell.execute_reply": "2025-04-13T04:50:47.908339Z",
     "shell.execute_reply.started": "2025-04-13T04:50:47.748761Z"
    },
    "tags": []
   },
   "outputs": [
    {
     "name": "stderr",
     "output_type": "stream",
     "text": [
      "<ipython-input-133-bee54acd818d>:59: UserWarning: FixedFormatter should only be used together with FixedLocator\n",
      "  ax.set_xticklabels(x_tick_labels, rotation=rotation, fontsize=17)\n",
      "<ipython-input-133-bee54acd818d>:64: UserWarning: FixedFormatter should only be used together with FixedLocator\n",
      "  ax.set_yticklabels(y_ticks, fontsize=17)\n"
     ]
    },
    {
     "data": {
      "image/png": "[encoded data removed]",
      "text/plain": [
       "<Figure size 360x288 with 1 Axes>"
      ]
     },
     "metadata": {
      "needs_background": "light"
     },
     "output_type": "display_data"
    }
   ],
   "source": [
    "# ATAC-seq\n",
    "plot_df = pd.concat([tilingmpra_h3k27ac_seq, lentimpra_h3k27ac_seq, atac_starr_h3k27ac_seq, whg_starr_h3k27ac_seq], ignore_index=True, axis=0)\n",
    "plot_df.columns = ['signal', 'profile_type', 'call_type', 'dataset']\n",
    "\n",
    "boxplot(data=plot_df,\n",
    "    x_col='dataset',\n",
    "    y_col='signal',\n",
    "    hue_col='call_type',\n",
    "    hue_order=['Lab-reported', 'Uniform Processed'],\n",
    "    x_order=['TilingMPRA', 'LentiMPRA', 'ATAC-STARR-seq', 'WHG-STARR-seq'],\n",
    "    xlabel='Dataset',\n",
    "    ylabel='H3K27ac Signal',\n",
    "    x_tick_labels=['TilingMPRA', 'LentiMPRA', 'ATAC-STARR-seq', 'WHG-STARR-seq'],\n",
    "    out_path='',\n",
    "    rotation=30)\n"
   ]
  },
  {
   "cell_type": "code",
   "execution_count": null,
   "id": "d72b24d7-659c-4bc3-b0a3-79264dda1794",
   "metadata": {},
   "outputs": [],
   "source": []
  }
 ],
 "metadata": {
  "kernelspec": {
   "display_name": "Python 3 (ipykernel)",
   "language": "python",
   "name": "python3"
  },
  "language_info": {
   "codemirror_mode": {
    "name": "ipython",
    "version": 3
   },
   "file_extension": ".py",
   "mimetype": "text/x-python",
   "name": "python",
   "nbconvert_exporter": "python",
   "pygments_lexer": "ipython3",
   "version": "3.9.16"
  }
 },
 "nbformat": 4,
 "nbformat_minor": 5
}
